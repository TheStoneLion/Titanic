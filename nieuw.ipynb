{
 "cells": [
  {
   "cell_type": "code",
   "execution_count": 3,
   "metadata": {},
   "outputs": [],
   "source": [
    "# This Python 3 environment comes with many helpful analytics libraries installed\n",
    "# It is defined by the kaggle/python docker image: https://github.com/kaggle/docker-python\n",
    "# For example, here's several helpful packages to load in \n",
    "\n",
    "import numpy as np # linear algebra\n",
    "import pandas as pd # data processing, CSV file I/O (e.g. pd.read_csv)\n",
    "\n",
    "\n",
    "\n",
    "# Any results you write to the current directory are saved as output."
   ]
  },
  {
   "cell_type": "code",
   "execution_count": 50,
   "metadata": {},
   "outputs": [],
   "source": [
    "train = pd.read_csv(\"train.csv\")\n",
    "test = pd.read_csv(\"test.csv\")"
   ]
  },
  {
   "cell_type": "code",
   "execution_count": 60,
   "metadata": {},
   "outputs": [],
   "source": [
    "datasets = [train, test]"
   ]
  },
  {
   "cell_type": "code",
   "execution_count": 64,
   "metadata": {},
   "outputs": [
    {
     "name": "stdout",
     "output_type": "stream",
     "text": [
      "<class 'pandas.core.frame.DataFrame'>\n",
      "RangeIndex: 891 entries, 0 to 890\n",
      "Data columns (total 18 columns):\n",
      " #   Column              Non-Null Count  Dtype  \n",
      "---  ------              --------------  -----  \n",
      " 0   PassengerId         891 non-null    int64  \n",
      " 1   Survived            891 non-null    int64  \n",
      " 2   Pclass              891 non-null    int64  \n",
      " 3   Name                891 non-null    object \n",
      " 4   Sex                 891 non-null    object \n",
      " 5   Age                 714 non-null    float64\n",
      " 6   SibSp               891 non-null    int64  \n",
      " 7   Parch               891 non-null    int64  \n",
      " 8   Ticket              891 non-null    object \n",
      " 9   Fare                891 non-null    float64\n",
      " 10  Cabin               204 non-null    object \n",
      " 11  Embarked            889 non-null    object \n",
      " 12  lastNaam            891 non-null    object \n",
      " 13  title               891 non-null    object \n",
      " 14  givenNames          891 non-null    object \n",
      " 15  numberOfGivenNames  891 non-null    int64  \n",
      " 16  maidenGivenNames    143 non-null    object \n",
      " 17  maidenLastName      143 non-null    object \n",
      "dtypes: float64(2), int64(6), object(10)\n",
      "memory usage: 125.4+ KB\n",
      "<class 'pandas.core.frame.DataFrame'>\n",
      "RangeIndex: 418 entries, 0 to 417\n",
      "Data columns (total 17 columns):\n",
      " #   Column              Non-Null Count  Dtype  \n",
      "---  ------              --------------  -----  \n",
      " 0   PassengerId         418 non-null    int64  \n",
      " 1   Pclass              418 non-null    int64  \n",
      " 2   Name                418 non-null    object \n",
      " 3   Sex                 418 non-null    object \n",
      " 4   Age                 332 non-null    float64\n",
      " 5   SibSp               418 non-null    int64  \n",
      " 6   Parch               418 non-null    int64  \n",
      " 7   Ticket              418 non-null    object \n",
      " 8   Fare                417 non-null    float64\n",
      " 9   Cabin               91 non-null     object \n",
      " 10  Embarked            418 non-null    object \n",
      " 11  lastNaam            418 non-null    object \n",
      " 12  title               418 non-null    object \n",
      " 13  givenNames          418 non-null    object \n",
      " 14  numberOfGivenNames  418 non-null    int64  \n",
      " 15  maidenGivenNames    78 non-null     object \n",
      " 16  maidenLastName      78 non-null     object \n",
      "dtypes: float64(2), int64(5), object(10)\n",
      "memory usage: 55.6+ KB\n"
     ]
    }
   ],
   "source": [
    "train.info()\n",
    "test.info()"
   ]
  },
  {
   "cell_type": "code",
   "execution_count": 70,
   "metadata": {},
   "outputs": [
    {
     "name": "stdout",
     "output_type": "stream",
     "text": [
      "0      S\n",
      "1      C\n",
      "2      S\n",
      "3      S\n",
      "4      S\n",
      "      ..\n",
      "886    S\n",
      "887    S\n",
      "888    S\n",
      "889    C\n",
      "890    Q\n",
      "Name: Embarked, Length: 891, dtype: object\n"
     ]
    }
   ],
   "source": [
    "print(train[\"Embarked\"])"
   ]
  },
  {
   "cell_type": "code",
   "execution_count": 62,
   "metadata": {},
   "outputs": [],
   "source": [
    "def splitName(name):\n",
    "    x = name.split(\", \")\n",
    "    lastNaam = x[0]\n",
    "    y = x[1].split(\". \")\n",
    "    title = y[0]\n",
    "    x = y[1].split(\"(\")\n",
    "    givenNames = x[0].rstrip()   \n",
    "    if len(x) > 1:\n",
    "        y = x[1].strip(\")\").split(\" \")\n",
    "        maidenLastName = y[len(y)-1]\n",
    "        maidenGivenNames = x[1].strip(\")\")\n",
    "        maidenGivenNames = maidenGivenNames.strip(maidenLastName)\n",
    "        maidenGivenNames = maidenGivenNames.rstrip()\n",
    "    else:\n",
    "        maidenGivenNames = None\n",
    "        maidenLastName = None\n",
    "    if maidenGivenNames == None:\n",
    "        z = givenNames.split(\" \")\n",
    "    else:\n",
    "        z = maidenGivenNames.split(\" \")\n",
    "    numberOfGivenNames = len(z)\n",
    "\n",
    "    return [lastNaam, title, givenNames, numberOfGivenNames, \n",
    "            maidenGivenNames, maidenLastName]\n",
    "for dataset in datasets:\n",
    "    dataset[\"lastNaam\"] = dataset[\"Name\"].apply(lambda x: splitName(x)[0])\n",
    "    dataset[\"title\"] = dataset[\"Name\"].apply(lambda x: splitName(x)[1])\n",
    "    dataset[\"givenNames\"] = dataset[\"Name\"].apply(lambda x: splitName(x)[2])\n",
    "    dataset[\"numberOfGivenNames\"] = dataset[\"Name\"].apply(lambda x: splitName(x)[3])\n",
    "    dataset[\"maidenGivenNames\"] = dataset[\"Name\"].apply(lambda x: splitName(x)[4])\n",
    "    dataset[\"maidenLastName\"] = dataset[\"Name\"].apply(lambda x: splitName(x)[5])"
   ]
  },
  {
   "cell_type": "code",
   "execution_count": 69,
   "metadata": {},
   "outputs": [
    {
     "name": "stdout",
     "output_type": "stream",
     "text": [
      "0      S\n",
      "1      C\n",
      "2      S\n",
      "3      S\n",
      "4      S\n",
      "      ..\n",
      "886    S\n",
      "887    S\n",
      "888    S\n",
      "889    C\n",
      "890    Q\n",
      "Name: Embarked, Length: 891, dtype: object\n"
     ]
    },
    {
     "ename": "ValueError",
     "evalue": "The truth value of a Series is ambiguous. Use a.empty, a.bool(), a.item(), a.any() or a.all().",
     "output_type": "error",
     "traceback": [
      "\u001b[1;31m---------------------------------------------------------------------------\u001b[0m",
      "\u001b[1;31mValueError\u001b[0m                                Traceback (most recent call last)",
      "\u001b[1;32m~\\AppData\\Local\\Temp\\ipykernel_11888\\2279092445.py\u001b[0m in \u001b[0;36m?\u001b[1;34m()\u001b[0m\n\u001b[0;32m      2\u001b[0m     \u001b[1;32mreturn\u001b[0m \u001b[0mnp\u001b[0m\u001b[1;33m.\u001b[0m\u001b[0maverage\u001b[0m\u001b[1;33m(\u001b[0m\u001b[0mdataset\u001b[0m\u001b[1;33m[\u001b[0m\u001b[1;34m\"Embarked\"\u001b[0m\u001b[1;33m]\u001b[0m\u001b[1;33m)\u001b[0m\u001b[1;33m\u001b[0m\u001b[1;33m\u001b[0m\u001b[0m\n\u001b[0;32m      3\u001b[0m \u001b[1;33m\u001b[0m\u001b[0m\n\u001b[0;32m      4\u001b[0m \u001b[1;32mfor\u001b[0m \u001b[0mdataset\u001b[0m \u001b[1;32min\u001b[0m \u001b[0mdatasets\u001b[0m\u001b[1;33m:\u001b[0m\u001b[1;33m\u001b[0m\u001b[1;33m\u001b[0m\u001b[0m\n\u001b[0;32m      5\u001b[0m     \u001b[0mprint\u001b[0m\u001b[1;33m(\u001b[0m\u001b[0mdataset\u001b[0m\u001b[1;33m[\u001b[0m\u001b[1;34m\"Embarked\"\u001b[0m\u001b[1;33m]\u001b[0m\u001b[1;33m)\u001b[0m\u001b[1;33m\u001b[0m\u001b[1;33m\u001b[0m\u001b[0m\n\u001b[1;32m----> 6\u001b[1;33m     \u001b[1;32mif\u001b[0m \u001b[0mdataset\u001b[0m\u001b[1;33m[\u001b[0m\u001b[1;34m\"Embarked\"\u001b[0m\u001b[1;33m]\u001b[0m \u001b[1;33m==\u001b[0m \u001b[1;32mNone\u001b[0m\u001b[1;33m:\u001b[0m\u001b[1;33m\u001b[0m\u001b[1;33m\u001b[0m\u001b[0m\n\u001b[0m\u001b[0;32m      7\u001b[0m         \u001b[0mdataset\u001b[0m\u001b[1;33m[\u001b[0m\u001b[1;34m\"Embarked\"\u001b[0m\u001b[1;33m]\u001b[0m \u001b[1;33m=\u001b[0m \u001b[0maddEmbarked\u001b[0m\u001b[1;33m(\u001b[0m\u001b[0mdataset\u001b[0m\u001b[1;33m[\u001b[0m\u001b[1;34m\"Embarked\"\u001b[0m\u001b[1;33m]\u001b[0m\u001b[1;33m)\u001b[0m\u001b[1;33m\u001b[0m\u001b[1;33m\u001b[0m\u001b[0m\n",
      "\u001b[1;32mc:\\Python310\\lib\\site-packages\\pandas\\core\\generic.py\u001b[0m in \u001b[0;36m?\u001b[1;34m(self)\u001b[0m\n\u001b[0;32m   1464\u001b[0m     \u001b[1;33m@\u001b[0m\u001b[0mfinal\u001b[0m\u001b[1;33m\u001b[0m\u001b[1;33m\u001b[0m\u001b[0m\n\u001b[0;32m   1465\u001b[0m     \u001b[1;32mdef\u001b[0m \u001b[0m__nonzero__\u001b[0m\u001b[1;33m(\u001b[0m\u001b[0mself\u001b[0m\u001b[1;33m)\u001b[0m \u001b[1;33m->\u001b[0m \u001b[0mNoReturn\u001b[0m\u001b[1;33m:\u001b[0m\u001b[1;33m\u001b[0m\u001b[1;33m\u001b[0m\u001b[0m\n\u001b[1;32m-> 1466\u001b[1;33m         raise ValueError(\n\u001b[0m\u001b[0;32m   1467\u001b[0m             \u001b[1;34mf\"The truth value of a {type(self).__name__} is ambiguous. \"\u001b[0m\u001b[1;33m\u001b[0m\u001b[1;33m\u001b[0m\u001b[0m\n\u001b[0;32m   1468\u001b[0m             \u001b[1;34m\"Use a.empty, a.bool(), a.item(), a.any() or a.all().\"\u001b[0m\u001b[1;33m\u001b[0m\u001b[1;33m\u001b[0m\u001b[0m\n\u001b[0;32m   1469\u001b[0m         )\n",
      "\u001b[1;31mValueError\u001b[0m: The truth value of a Series is ambiguous. Use a.empty, a.bool(), a.item(), a.any() or a.all()."
     ]
    }
   ],
   "source": [
    "def addEmbarked(embarked):\n",
    "    return np.average(dataset[\"Embarked\"])\n",
    "\n",
    "for dataset in datasets:\n",
    "    print(dataset[\"Embarked\"])\n",
    "    if dataset[\"Embarked\"] == None:\n",
    "        dataset[\"Embarked\"] = addEmbarked(dataset[\"Embarked\"])"
   ]
  },
  {
   "cell_type": "code",
   "execution_count": 63,
   "metadata": {},
   "outputs": [
    {
     "name": "stdout",
     "output_type": "stream",
     "text": [
      "     PassengerId  Survived  Pclass  \\\n",
      "0              1         0       3   \n",
      "1              2         1       1   \n",
      "2              3         1       3   \n",
      "3              4         1       1   \n",
      "4              5         0       3   \n",
      "..           ...       ...     ...   \n",
      "886          887         0       2   \n",
      "887          888         1       1   \n",
      "888          889         0       3   \n",
      "889          890         1       1   \n",
      "890          891         0       3   \n",
      "\n",
      "                                                  Name     Sex   Age  SibSp  \\\n",
      "0                              Braund, Mr. Owen Harris    male  22.0      1   \n",
      "1    Cumings, Mrs. John Bradley (Florence Briggs Th...  female  38.0      1   \n",
      "2                               Heikkinen, Miss. Laina  female  26.0      0   \n",
      "3         Futrelle, Mrs. Jacques Heath (Lily May Peel)  female  35.0      1   \n",
      "4                             Allen, Mr. William Henry    male  35.0      0   \n",
      "..                                                 ...     ...   ...    ...   \n",
      "886                              Montvila, Rev. Juozas    male  27.0      0   \n",
      "887                       Graham, Miss. Margaret Edith  female  19.0      0   \n",
      "888           Johnston, Miss. Catherine Helen \"Carrie\"  female   NaN      1   \n",
      "889                              Behr, Mr. Karl Howell    male  26.0      0   \n",
      "890                                Dooley, Mr. Patrick    male  32.0      0   \n",
      "\n",
      "     Parch            Ticket     Fare Cabin Embarked   lastNaam title  \\\n",
      "0        0         A/5 21171   7.2500   NaN        S     Braund    Mr   \n",
      "1        0          PC 17599  71.2833   C85        C    Cumings   Mrs   \n",
      "2        0  STON/O2. 3101282   7.9250   NaN        S  Heikkinen  Miss   \n",
      "3        0            113803  53.1000  C123        S   Futrelle   Mrs   \n",
      "4        0            373450   8.0500   NaN        S      Allen    Mr   \n",
      "..     ...               ...      ...   ...      ...        ...   ...   \n",
      "886      0            211536  13.0000   NaN        S   Montvila   Rev   \n",
      "887      0            112053  30.0000   B42        S     Graham  Miss   \n",
      "888      2        W./C. 6607  23.4500   NaN        S   Johnston  Miss   \n",
      "889      0            111369  30.0000  C148        C       Behr    Mr   \n",
      "890      0            370376   7.7500   NaN        Q     Dooley    Mr   \n",
      "\n",
      "                   givenNames  numberOfGivenNames maidenGivenNames  \\\n",
      "0                 Owen Harris                   2             None   \n",
      "1                John Bradley                   2  Florence Briggs   \n",
      "2                       Laina                   1             None   \n",
      "3               Jacques Heath                   2         Lily May   \n",
      "4               William Henry                   2             None   \n",
      "..                        ...                 ...              ...   \n",
      "886                    Juozas                   1             None   \n",
      "887            Margaret Edith                   2             None   \n",
      "888  Catherine Helen \"Carrie\"                   3             None   \n",
      "889               Karl Howell                   2             None   \n",
      "890                   Patrick                   1             None   \n",
      "\n",
      "    maidenLastName  \n",
      "0             None  \n",
      "1           Thayer  \n",
      "2             None  \n",
      "3             Peel  \n",
      "4             None  \n",
      "..             ...  \n",
      "886           None  \n",
      "887           None  \n",
      "888           None  \n",
      "889           None  \n",
      "890           None  \n",
      "\n",
      "[891 rows x 18 columns]\n"
     ]
    }
   ],
   "source": [
    "print(train)"
   ]
  },
  {
   "cell_type": "code",
   "execution_count": null,
   "metadata": {},
   "outputs": [
    {
     "name": "stdout",
     "output_type": "stream",
     "text": [
      "Your submission was successfully saved!\n"
     ]
    }
   ],
   "source": [
    "from sklearn.ensemble import RandomForestClassifier\n",
    "\n",
    "y = train[\"Survived\"]\n",
    "\n",
    "features = [\"Pclass\", \"Sex\", \"SibSp\", \"Parch\", \"Title\"]\n",
    "X = pd.get_dummies(train[features])\n",
    "X_test = pd.get_dummies(test[features])\n",
    "\n",
    "model = RandomForestClassifier(n_estimators=100, max_depth=5, random_state=1)\n",
    "model.fit(X, y)\n",
    "predictions = model.predict(X_test)\n",
    "\n",
    "output = pd.DataFrame({'PassengerId': test.PassengerId, 'Survived': predictions})\n",
    "output.to_csv('submission.csv', index=False)\n",
    "print(\"Your submission was successfully saved!\")"
   ]
  },
  {
   "cell_type": "code",
   "execution_count": 25,
   "metadata": {},
   "outputs": [
    {
     "name": "stdout",
     "output_type": "stream",
     "text": [
      "False\n"
     ]
    }
   ],
   "source": [
    "print(True if 19 in range(1, 10) else False)\n"
   ]
  }
 ],
 "metadata": {
  "kernelspec": {
   "display_name": "Python 3",
   "language": "python",
   "name": "python3"
  },
  "language_info": {
   "codemirror_mode": {
    "name": "ipython",
    "version": 3
   },
   "file_extension": ".py",
   "mimetype": "text/x-python",
   "name": "python",
   "nbconvert_exporter": "python",
   "pygments_lexer": "ipython3",
   "version": "3.10.1"
  }
 },
 "nbformat": 4,
 "nbformat_minor": 2
}
